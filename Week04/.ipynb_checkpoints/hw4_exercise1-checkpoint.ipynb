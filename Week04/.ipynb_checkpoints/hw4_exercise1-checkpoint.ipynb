{
 "cells": [
  {
   "cell_type": "code",
   "execution_count": 2,
   "id": "7de17bf6-f4b9-4220-89e7-eec85aa13457",
   "metadata": {},
   "outputs": [],
   "source": [
    "import pandas as pd\n",
    "import nltk \n",
    "from bs4 import BeautifulSoup\n",
    "import string\n",
    "from nltk.corpus import stopwords\n",
    "import numpy as np\n"
   ]
  },
  {
   "cell_type": "code",
   "execution_count": 75,
   "id": "6438d92c-d312-4d9d-a31e-8e0c44de76fe",
   "metadata": {},
   "outputs": [],
   "source": [
    "df = pd.read_csv('titanic_train.csv', index_col = 'PassengerId')"
   ]
  },
  {
   "cell_type": "code",
   "execution_count": 63,
   "id": "74a05c74-9204-4908-92d0-02d7388dd7fe",
   "metadata": {},
   "outputs": [
    {
     "data": {
      "text/html": [
       "<div>\n",
       "<style scoped>\n",
       "    .dataframe tbody tr th:only-of-type {\n",
       "        vertical-align: middle;\n",
       "    }\n",
       "\n",
       "    .dataframe tbody tr th {\n",
       "        vertical-align: top;\n",
       "    }\n",
       "\n",
       "    .dataframe thead th {\n",
       "        text-align: right;\n",
       "    }\n",
       "</style>\n",
       "<table border=\"1\" class=\"dataframe\">\n",
       "  <thead>\n",
       "    <tr style=\"text-align: right;\">\n",
       "      <th></th>\n",
       "      <th>Survived</th>\n",
       "      <th>Pclass</th>\n",
       "      <th>Name</th>\n",
       "      <th>Sex</th>\n",
       "      <th>Age</th>\n",
       "      <th>SibSp</th>\n",
       "      <th>Parch</th>\n",
       "      <th>Ticket</th>\n",
       "      <th>Fare</th>\n",
       "      <th>Cabin</th>\n",
       "      <th>Embarked</th>\n",
       "    </tr>\n",
       "    <tr>\n",
       "      <th>PassengerId</th>\n",
       "      <th></th>\n",
       "      <th></th>\n",
       "      <th></th>\n",
       "      <th></th>\n",
       "      <th></th>\n",
       "      <th></th>\n",
       "      <th></th>\n",
       "      <th></th>\n",
       "      <th></th>\n",
       "      <th></th>\n",
       "      <th></th>\n",
       "    </tr>\n",
       "  </thead>\n",
       "  <tbody>\n",
       "    <tr>\n",
       "      <th>1</th>\n",
       "      <td>0</td>\n",
       "      <td>3</td>\n",
       "      <td>Braund, Mr. Owen Harris</td>\n",
       "      <td>male</td>\n",
       "      <td>22.0</td>\n",
       "      <td>1</td>\n",
       "      <td>0</td>\n",
       "      <td>A/5 21171</td>\n",
       "      <td>7.25</td>\n",
       "      <td>NaN</td>\n",
       "      <td>S</td>\n",
       "    </tr>\n",
       "  </tbody>\n",
       "</table>\n",
       "</div>"
      ],
      "text/plain": [
       "             Survived  Pclass                     Name   Sex   Age  SibSp  \\\n",
       "PassengerId                                                                 \n",
       "1                   0       3  Braund, Mr. Owen Harris  male  22.0      1   \n",
       "\n",
       "             Parch     Ticket  Fare Cabin Embarked  \n",
       "PassengerId                                         \n",
       "1                0  A/5 21171  7.25   NaN        S  "
      ]
     },
     "execution_count": 63,
     "metadata": {},
     "output_type": "execute_result"
    }
   ],
   "source": [
    "df.head(1)"
   ]
  },
  {
   "cell_type": "code",
   "execution_count": 238,
   "id": "8c7e7bc4-15e6-4662-85c9-d460e16dd74b",
   "metadata": {},
   "outputs": [],
   "source": [
    "mask1 = (df.Survived == 1)\n",
    "mask0 = (df.Survived == 0)"
   ]
  },
  {
   "cell_type": "code",
   "execution_count": 240,
   "id": "2045e4b3-ebdb-47da-a88c-fbf8b7148d88",
   "metadata": {},
   "outputs": [],
   "source": [
    "# df = df[(df['Survived'] == '1')]\n",
    "groupAnalysis = df[mask1].groupby(['Sex', 'Pclass'])['Survived'].count()\n",
    "groupAnalysis_dead = df[mask0].groupby(['Sex', 'Pclass'])['Survived'].count()"
   ]
  },
  {
   "cell_type": "code",
   "execution_count": 120,
   "id": "6a524c78-a260-4ccf-9d06-305219302f1d",
   "metadata": {},
   "outputs": [
    {
     "data": {
      "text/plain": [
       "Sex     Pclass  Survived\n",
       "female  1       1           91\n",
       "        2       1           70\n",
       "        3       1           72\n",
       "male    1       1           45\n",
       "        2       1           17\n",
       "        3       1           47\n",
       "Name: Survived, dtype: int64"
      ]
     },
     "execution_count": 120,
     "metadata": {},
     "output_type": "execute_result"
    }
   ],
   "source": [
    "# groupAnalysis.count()\n",
    "\n"
   ]
  },
  {
   "cell_type": "code",
   "execution_count": 133,
   "id": "85150989-c354-4818-bd10-7de7ddd70b78",
   "metadata": {},
   "outputs": [],
   "source": [
    "# groupAnalysis.mean()"
   ]
  },
  {
   "cell_type": "code",
   "execution_count": 246,
   "id": "966f981c-2a69-4f5a-8596-10ead6a569c6",
   "metadata": {},
   "outputs": [],
   "source": [
    "survived_dict = groupAnalysis.to_dict()\n",
    "dead_dict = groupAnalysis_dead.to_dict()"
   ]
  },
  {
   "cell_type": "code",
   "execution_count": 242,
   "id": "ef44cb2f-3ba3-45e7-89c3-e3939fd07163",
   "metadata": {},
   "outputs": [
    {
     "data": {
      "text/plain": [
       "{('female', 1): 91,\n",
       " ('female', 2): 70,\n",
       " ('female', 3): 72,\n",
       " ('male', 1): 45,\n",
       " ('male', 2): 17,\n",
       " ('male', 3): 47}"
      ]
     },
     "execution_count": 242,
     "metadata": {},
     "output_type": "execute_result"
    }
   ],
   "source": [
    "survived_dict"
   ]
  },
  {
   "cell_type": "code",
   "execution_count": 243,
   "id": "9dc5c26d-1cb1-4e49-976f-e1c380c76d48",
   "metadata": {},
   "outputs": [
    {
     "data": {
      "text/plain": [
       "dict_keys([('female', 1), ('female', 2), ('female', 3), ('male', 1), ('male', 2), ('male', 3)])"
      ]
     },
     "execution_count": 243,
     "metadata": {},
     "output_type": "execute_result"
    }
   ],
   "source": [
    "survived_dict.keys()\n"
   ]
  },
  {
   "cell_type": "code",
   "execution_count": 244,
   "id": "b89e0a12-43e0-4616-a64c-cb79cccd52e8",
   "metadata": {},
   "outputs": [
    {
     "data": {
      "text/plain": [
       "dict_values([91, 70, 72, 45, 17, 47])"
      ]
     },
     "execution_count": 244,
     "metadata": {},
     "output_type": "execute_result"
    }
   ],
   "source": [
    "survived_dict.values()"
   ]
  },
  {
   "cell_type": "code",
   "execution_count": 245,
   "id": "09aa9c1c-c54e-42bc-9790-80b0a6e99928",
   "metadata": {},
   "outputs": [
    {
     "name": "stdout",
     "output_type": "stream",
     "text": [
      "group: ('female', 1) => 91\n",
      "group: ('female', 2) => 70\n",
      "group: ('female', 3) => 72\n",
      "group: ('male', 1) => 45\n",
      "group: ('male', 2) => 17\n",
      "group: ('male', 3) => 47\n"
     ]
    }
   ],
   "source": [
    "for k, v in survived_dict.items():\n",
    "    print(\"group:\",k,\"=>\",v)"
   ]
  },
  {
   "cell_type": "code",
   "execution_count": 247,
   "id": "f53a1141-1fb9-46ee-bbfe-cf315879bf5c",
   "metadata": {},
   "outputs": [
    {
     "name": "stdout",
     "output_type": "stream",
     "text": [
      "group: ('female', 1) => 3\n",
      "group: ('female', 2) => 6\n",
      "group: ('female', 3) => 72\n",
      "group: ('male', 1) => 77\n",
      "group: ('male', 2) => 91\n",
      "group: ('male', 3) => 300\n"
     ]
    }
   ],
   "source": [
    "for k, v in dead_dict.items():\n",
    "    print(\"group:\",k,\"=>\",v)"
   ]
  },
  {
   "cell_type": "code",
   "execution_count": null,
   "id": "f4a1b6d7-fec8-4623-9044-93e62c135d17",
   "metadata": {},
   "outputs": [],
   "source": []
  }
 ],
 "metadata": {
  "kernelspec": {
   "display_name": "Python 3 (ipykernel)",
   "language": "python",
   "name": "python3"
  },
  "language_info": {
   "codemirror_mode": {
    "name": "ipython",
    "version": 3
   },
   "file_extension": ".py",
   "mimetype": "text/x-python",
   "name": "python",
   "nbconvert_exporter": "python",
   "pygments_lexer": "ipython3",
   "version": "3.9.7"
  }
 },
 "nbformat": 4,
 "nbformat_minor": 5
}
