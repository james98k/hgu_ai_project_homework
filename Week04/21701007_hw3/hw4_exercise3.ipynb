{
 "cells": [
  {
   "cell_type": "code",
   "execution_count": 1,
   "id": "ab5da28f-c844-4440-9bd0-816be9e2da92",
   "metadata": {},
   "outputs": [],
   "source": [
    "import pandas as pd\n",
    "import nltk \n",
    "from bs4 import BeautifulSoup\n",
    "import string\n",
    "from nltk.corpus import stopwords\n",
    "import numpy as np"
   ]
  },
  {
   "cell_type": "code",
   "execution_count": 2,
   "id": "316d8d21-0447-408b-851e-02ba0a096f8e",
   "metadata": {},
   "outputs": [],
   "source": [
    "df = pd.read_csv('amazon_train_df.csv')"
   ]
  },
  {
   "cell_type": "code",
   "execution_count": 3,
   "id": "02a3250b-ca59-4a26-b32f-ae6c5790a781",
   "metadata": {},
   "outputs": [
    {
     "data": {
      "text/html": [
       "<div>\n",
       "<style scoped>\n",
       "    .dataframe tbody tr th:only-of-type {\n",
       "        vertical-align: middle;\n",
       "    }\n",
       "\n",
       "    .dataframe tbody tr th {\n",
       "        vertical-align: top;\n",
       "    }\n",
       "\n",
       "    .dataframe thead th {\n",
       "        text-align: right;\n",
       "    }\n",
       "</style>\n",
       "<table border=\"1\" class=\"dataframe\">\n",
       "  <thead>\n",
       "    <tr style=\"text-align: right;\">\n",
       "      <th></th>\n",
       "      <th>0</th>\n",
       "      <th>1</th>\n",
       "      <th>2</th>\n",
       "      <th>3</th>\n",
       "      <th>4</th>\n",
       "    </tr>\n",
       "  </thead>\n",
       "  <tbody>\n",
       "    <tr>\n",
       "      <th>0</th>\n",
       "      <td>One Star</td>\n",
       "      <td>1.0</td>\n",
       "      <td>25 July 2014</td>\n",
       "      <td>By\\r\\n    \\r\\n    Andrea Bradden\\r\\n  \\r\\n on...</td>\n",
       "      <td>ordered this, there was no PB embroidered on ...</td>\n",
       "    </tr>\n",
       "  </tbody>\n",
       "</table>\n",
       "</div>"
      ],
      "text/plain": [
       "           0    1               2  \\\n",
       "0  One Star   1.0   25 July 2014    \n",
       "\n",
       "                                                   3  \\\n",
       "0   By\\r\\n    \\r\\n    Andrea Bradden\\r\\n  \\r\\n on...   \n",
       "\n",
       "                                                   4  \n",
       "0   ordered this, there was no PB embroidered on ...  "
      ]
     },
     "execution_count": 3,
     "metadata": {},
     "output_type": "execute_result"
    }
   ],
   "source": [
    "df.head(1)"
   ]
  },
  {
   "cell_type": "code",
   "execution_count": 4,
   "id": "93ee8f5f-77e0-4486-8f0a-701500ea7624",
   "metadata": {},
   "outputs": [
    {
     "data": {
      "text/plain": [
       "Index(['0', '1', '2', '3', '4'], dtype='object')"
      ]
     },
     "execution_count": 4,
     "metadata": {},
     "output_type": "execute_result"
    }
   ],
   "source": [
    "df.columns\n"
   ]
  },
  {
   "cell_type": "code",
   "execution_count": 5,
   "id": "bd20b9aa-ab95-47cf-ace3-2791ad25ded8",
   "metadata": {},
   "outputs": [],
   "source": [
    "df.rename(columns={\"0\":\"Title\", '1': \"Star\", \"2\":\"Date\", \"3\":\"Name\", \"4\":\"Review\"}, inplace = True)"
   ]
  },
  {
   "cell_type": "code",
   "execution_count": 6,
   "id": "924452f0-7790-4470-b05e-526dc40dbd3f",
   "metadata": {},
   "outputs": [
    {
     "data": {
      "text/plain": [
       "Index(['Title', 'Star', 'Date', 'Name', 'Review'], dtype='object')"
      ]
     },
     "execution_count": 6,
     "metadata": {},
     "output_type": "execute_result"
    }
   ],
   "source": [
    "df.columns"
   ]
  },
  {
   "cell_type": "code",
   "execution_count": 7,
   "id": "42f96c8c-a497-4a30-aca7-f16cae3ecb67",
   "metadata": {},
   "outputs": [],
   "source": [
    "df = df.drop([5])"
   ]
  },
  {
   "cell_type": "code",
   "execution_count": 8,
   "id": "40109d26-a98a-42cb-9855-1f3cd83bae66",
   "metadata": {},
   "outputs": [
    {
     "data": {
      "text/html": [
       "<div>\n",
       "<style scoped>\n",
       "    .dataframe tbody tr th:only-of-type {\n",
       "        vertical-align: middle;\n",
       "    }\n",
       "\n",
       "    .dataframe tbody tr th {\n",
       "        vertical-align: top;\n",
       "    }\n",
       "\n",
       "    .dataframe thead th {\n",
       "        text-align: right;\n",
       "    }\n",
       "</style>\n",
       "<table border=\"1\" class=\"dataframe\">\n",
       "  <thead>\n",
       "    <tr style=\"text-align: right;\">\n",
       "      <th></th>\n",
       "      <th>Title</th>\n",
       "      <th>Star</th>\n",
       "      <th>Date</th>\n",
       "      <th>Name</th>\n",
       "      <th>Review</th>\n",
       "    </tr>\n",
       "  </thead>\n",
       "  <tbody>\n",
       "    <tr>\n",
       "      <th>0</th>\n",
       "      <td>One Star</td>\n",
       "      <td>1.0</td>\n",
       "      <td>25 July 2014</td>\n",
       "      <td>By\\r\\n    \\r\\n    Andrea Bradden\\r\\n  \\r\\n on...</td>\n",
       "      <td>ordered this, there was no PB embroidered on ...</td>\n",
       "    </tr>\n",
       "    <tr>\n",
       "      <th>1</th>\n",
       "      <td>Arm missing!!</td>\n",
       "      <td>1.0</td>\n",
       "      <td>1 Nov. 2015</td>\n",
       "      <td>By\\r\\n    \\r\\n    gemma james\\r\\n  \\r\\n on 1 ...</td>\n",
       "      <td>These are smaller than than you think and a l...</td>\n",
       "    </tr>\n",
       "    <tr>\n",
       "      <th>2</th>\n",
       "      <td>Cheap advent calendar</td>\n",
       "      <td>1.0</td>\n",
       "      <td>28 Oct. 2015</td>\n",
       "      <td>By\\r\\n    \\r\\n    lully\\r\\n  \\r\\n on 28 Oct. ...</td>\n",
       "      <td>Thought this would make a lovely different ca...</td>\n",
       "    </tr>\n",
       "    <tr>\n",
       "      <th>3</th>\n",
       "      <td>Poor quality sand</td>\n",
       "      <td>1.0</td>\n",
       "      <td>26 Dec. 2015</td>\n",
       "      <td>By\\r\\n    \\r\\n    Amazon Customer\\r\\n  \\r\\n o...</td>\n",
       "      <td>The sand is rubbish - very messy and doesn't ...</td>\n",
       "    </tr>\n",
       "    <tr>\n",
       "      <th>4</th>\n",
       "      <td>Colour choice</td>\n",
       "      <td>1.0</td>\n",
       "      <td>19 Dec. 2015</td>\n",
       "      <td>By\\r\\n    \\r\\n    Pen Name\\r\\n  \\r\\n on 19 De...</td>\n",
       "      <td>Know it says random colours but wish we could...</td>\n",
       "    </tr>\n",
       "    <tr>\n",
       "      <th>6</th>\n",
       "      <td>Poor quality</td>\n",
       "      <td>1.0</td>\n",
       "      <td>4 Jan. 2014</td>\n",
       "      <td>6 of 6 people found the following review help...</td>\n",
       "      <td>The cab bit is metal, trailer part is cheap p...</td>\n",
       "    </tr>\n",
       "    <tr>\n",
       "      <th>7</th>\n",
       "      <td>Will not be buying again</td>\n",
       "      <td>1.0</td>\n",
       "      <td>25 Feb. 2014</td>\n",
       "      <td>By\\r\\n    \\r\\n    lynsey\\r\\n  \\r\\n on 25 Feb....</td>\n",
       "      <td>Very poor quality product. cannot even use th...</td>\n",
       "    </tr>\n",
       "    <tr>\n",
       "      <th>8</th>\n",
       "      <td>Very Disappointed</td>\n",
       "      <td>1.0</td>\n",
       "      <td>19 July 2014</td>\n",
       "      <td>By\\r\\n    \\r\\n    Emma Melissa Cox\\r\\n  \\r\\n ...</td>\n",
       "      <td>Was sent \"DIY colourful rubber bands\" when th...</td>\n",
       "    </tr>\n",
       "    <tr>\n",
       "      <th>9</th>\n",
       "      <td>WOULD NOT BUY FROM HERE AGAIN</td>\n",
       "      <td>1.0</td>\n",
       "      <td>20 Jun. 2014</td>\n",
       "      <td>By\\r\\n    \\r\\n    elaine easterbrook\\r\\n  \\r\\...</td>\n",
       "      <td>ORDERED THESE AS MY DAUGHTER WANTED THEM AS T...</td>\n",
       "    </tr>\n",
       "    <tr>\n",
       "      <th>10</th>\n",
       "      <td>Half a minion</td>\n",
       "      <td>1.0</td>\n",
       "      <td>17 Oct. 2015</td>\n",
       "      <td>By\\r\\n    \\r\\n    eddie\\r\\n  \\r\\n on 17 Oct. ...</td>\n",
       "      <td>I was really looking forward to receiving the...</td>\n",
       "    </tr>\n",
       "  </tbody>\n",
       "</table>\n",
       "</div>"
      ],
      "text/plain": [
       "                             Title  Star            Date  \\\n",
       "0                        One Star    1.0   25 July 2014    \n",
       "1                   Arm missing!!    1.0    1 Nov. 2015    \n",
       "2           Cheap advent calendar    1.0   28 Oct. 2015    \n",
       "3               Poor quality sand    1.0   26 Dec. 2015    \n",
       "4                   Colour choice    1.0   19 Dec. 2015    \n",
       "6                    Poor quality    1.0    4 Jan. 2014    \n",
       "7        Will not be buying again    1.0   25 Feb. 2014    \n",
       "8               Very Disappointed    1.0   19 July 2014    \n",
       "9   WOULD NOT BUY FROM HERE AGAIN    1.0   20 Jun. 2014    \n",
       "10                  Half a minion    1.0   17 Oct. 2015    \n",
       "\n",
       "                                                 Name  \\\n",
       "0    By\\r\\n    \\r\\n    Andrea Bradden\\r\\n  \\r\\n on...   \n",
       "1    By\\r\\n    \\r\\n    gemma james\\r\\n  \\r\\n on 1 ...   \n",
       "2    By\\r\\n    \\r\\n    lully\\r\\n  \\r\\n on 28 Oct. ...   \n",
       "3    By\\r\\n    \\r\\n    Amazon Customer\\r\\n  \\r\\n o...   \n",
       "4    By\\r\\n    \\r\\n    Pen Name\\r\\n  \\r\\n on 19 De...   \n",
       "6    6 of 6 people found the following review help...   \n",
       "7    By\\r\\n    \\r\\n    lynsey\\r\\n  \\r\\n on 25 Feb....   \n",
       "8    By\\r\\n    \\r\\n    Emma Melissa Cox\\r\\n  \\r\\n ...   \n",
       "9    By\\r\\n    \\r\\n    elaine easterbrook\\r\\n  \\r\\...   \n",
       "10   By\\r\\n    \\r\\n    eddie\\r\\n  \\r\\n on 17 Oct. ...   \n",
       "\n",
       "                                               Review  \n",
       "0    ordered this, there was no PB embroidered on ...  \n",
       "1    These are smaller than than you think and a l...  \n",
       "2    Thought this would make a lovely different ca...  \n",
       "3    The sand is rubbish - very messy and doesn't ...  \n",
       "4    Know it says random colours but wish we could...  \n",
       "6    The cab bit is metal, trailer part is cheap p...  \n",
       "7    Very poor quality product. cannot even use th...  \n",
       "8    Was sent \"DIY colourful rubber bands\" when th...  \n",
       "9    ORDERED THESE AS MY DAUGHTER WANTED THEM AS T...  \n",
       "10   I was really looking forward to receiving the...  "
      ]
     },
     "execution_count": 8,
     "metadata": {},
     "output_type": "execute_result"
    }
   ],
   "source": [
    "df[:10]"
   ]
  },
  {
   "cell_type": "code",
   "execution_count": 9,
   "id": "a4c3498e-7be5-4353-9f39-cc3446e10cc4",
   "metadata": {
    "tags": []
   },
   "outputs": [],
   "source": [
    "reviewDict = df['Review'].to_dict()"
   ]
  },
  {
   "cell_type": "code",
   "execution_count": 10,
   "id": "37eede07-ab3a-4a68-a4c5-70f48d55f460",
   "metadata": {},
   "outputs": [],
   "source": [
    "def remove_html(text_data):\n",
    "    soup = BeautifulSoup(text_data, 'lxml')\n",
    "    return soup.get_text()\n"
   ]
  },
  {
   "cell_type": "code",
   "execution_count": 11,
   "id": "926e9aff-1843-4030-ba61-252f09bf9293",
   "metadata": {},
   "outputs": [],
   "source": [
    "def remove_punctuation(text):\n",
    "    sent = []\n",
    "    for t in text.split(' '):\n",
    "        no_punct = \"\".join([c for c in t if c not in string.punctuation])\n",
    "        sent.append(no_punct)\n",
    "    sentence = \" \".join(s for s in sent)\n",
    "    return sentence"
   ]
  },
  {
   "cell_type": "code",
   "execution_count": 12,
   "id": "4dc3c96a-89c3-4b14-aedd-edb6d0ce7d9e",
   "metadata": {},
   "outputs": [],
   "source": [
    "# import emoji\n",
    "# import base64\n",
    "# def give_emoji_free_text(text):\n",
    "#     allchars = [str for str in text]\n",
    "#     emoji_list = [c for c in allchars if c in emoji.UNICODE_EMOJI]\n",
    "#     clean_text = ' '.join([str for str in text.split() if not any(i in str for i in emoji_list)])\n",
    "#     return clean_text"
   ]
  },
  {
   "cell_type": "code",
   "execution_count": null,
   "id": "4cefb4f8-0aa1-4cd8-b324-877e4bc88d53",
   "metadata": {},
   "outputs": [],
   "source": []
  },
  {
   "cell_type": "code",
   "execution_count": 13,
   "id": "b9c9a43e-57c0-45b1-aaca-0896089b6153",
   "metadata": {},
   "outputs": [],
   "source": [
    "for k, v in reviewDict.items():\n",
    "    tempValue = remove_punctuation(v)\n",
    "    reviewDict[k] = tempValue.lower().strip()"
   ]
  },
  {
   "cell_type": "code",
   "execution_count": 14,
   "id": "5cc10ea6-8fa1-4f50-b3b4-13e48bbd962e",
   "metadata": {},
   "outputs": [],
   "source": [
    "import spacy\n",
    "nlp = spacy.load('en_core_web_sm')"
   ]
  },
  {
   "cell_type": "code",
   "execution_count": 15,
   "id": "537a1235-9695-46b9-b806-cdb451b487e8",
   "metadata": {},
   "outputs": [],
   "source": [
    "# #  tokenize\n",
    "# for k, v in reviewDict.items():\n",
    "#     reviewDict[k] = nlp(v.strip())\n",
    "# tokenizedReviewDict = reviewDict"
   ]
  },
  {
   "cell_type": "code",
   "execution_count": null,
   "id": "289f2885-452c-4dfc-aa54-f533092bf69e",
   "metadata": {},
   "outputs": [],
   "source": []
  },
  {
   "cell_type": "code",
   "execution_count": 16,
   "id": "6a966ea7-1f88-4649-814f-d4370abf4fb7",
   "metadata": {},
   "outputs": [],
   "source": [
    "# # tokenize every sentences\n",
    "# for k, v in tokenizedReviewDict.items():\n",
    "#     token_lem_sentence = [(token.text, token.lemma_) for token in v]\n",
    "#     tokenizedReviewDict[k] = token_lem_sentence"
   ]
  },
  {
   "cell_type": "code",
   "execution_count": 17,
   "id": "828f5cbb-4f5a-45f3-b760-1c548b391233",
   "metadata": {},
   "outputs": [],
   "source": [
    "from nltk.corpus import stopwords\n",
    "\n",
    "# print(stopwords.words('english')[:10])\n",
    "# print(len(stopwords.words('english')))"
   ]
  },
  {
   "cell_type": "code",
   "execution_count": 18,
   "id": "68cbb75b-8d2f-47dc-b0d6-915368f07f0b",
   "metadata": {},
   "outputs": [],
   "source": [
    "stop_words = set(stopwords.words('english'))\n",
    "\n",
    "# for k , v in tokenizedReviewDict.items():\n",
    "#     print(tokenizedReviewDict[k])"
   ]
  },
  {
   "cell_type": "code",
   "execution_count": null,
   "id": "9a72e176-96d7-4c07-98b6-d3121bd92ad3",
   "metadata": {},
   "outputs": [],
   "source": []
  },
  {
   "cell_type": "code",
   "execution_count": 19,
   "id": "46db3a4d-bdc4-43ba-aa41-b5d84cce10f7",
   "metadata": {},
   "outputs": [],
   "source": [
    "dictionary = {}\n",
    "def make_frequent_dict(text):\n",
    "    # print(\"-\",text)\n",
    "    for word in text.split():\n",
    "        # print(\"-\", word)\n",
    "        if word not in dictionary:\n",
    "            dictionary[word] = 0\n",
    "        dictionary[word] += 1\n",
    "    # print(dictionary)"
   ]
  },
  {
   "cell_type": "code",
   "execution_count": 20,
   "id": "f99172ff-cfbf-4e56-9dfb-e1e13615eafd",
   "metadata": {},
   "outputs": [],
   "source": [
    "# for k, v in reviewDict.items():\n",
    "#     reviewDict[k] = make_frequent_dict(v)"
   ]
  },
  {
   "cell_type": "code",
   "execution_count": 21,
   "id": "0e107918-6c44-4fb7-a5f0-d19070323ed6",
   "metadata": {},
   "outputs": [],
   "source": [
    "def print_most_frequent_values(dict_value):\n",
    "    sub_count = 0;\n",
    "    # for key, value in dict_value:\n",
    "    print(\"review \", global_count, \" : \", end = \" \")\n",
    "    for i in range(5):\n",
    "        print(dict_value[i][0],end = \", \")\n",
    "    print(\"\\n\")\n",
    "    "
   ]
  },
  {
   "cell_type": "code",
   "execution_count": 22,
   "id": "58eb0d75-a18c-442f-9bc2-4f8e2c30354d",
   "metadata": {},
   "outputs": [
    {
     "name": "stdout",
     "output_type": "stream",
     "text": [
      "review  0  : , pb ordered this there was \n",
      "\n",
      "review  1  : , the are than they and \n",
      "\n",
      "review  2  : , the cheap thought would a \n",
      "\n",
      "review  3  : , sand and the is very \n",
      "\n",
      "review  4  : , it and like know says \n",
      "\n",
      "review  5  : , the it is trailer part \n",
      "\n",
      "review  6  : , very poor not quality product \n",
      "\n",
      "review  7  : , bands was sent diy colourful \n",
      "\n",
      "review  8  : , i as 2 my daughter \n",
      "\n",
      "review  9  : , the i was to when \n",
      "\n",
      "review  10  : , the you these not in \n",
      "\n",
      "review  11  : , the and a is to \n",
      "\n",
      "review  12  : , it up only so thought \n",
      "\n",
      "review  13  : , the i very was disappointed \n",
      "\n",
      "review  14  : , the my water and unfortunately \n",
      "\n",
      "review  15  : , it the a and we \n",
      "\n",
      "review  16  : , it are its we on \n",
      "\n",
      "review  17  : , the i that would picture \n",
      "\n",
      "review  18  : , the i to and this \n",
      "\n",
      "review  19  : , on the quality very to \n",
      "\n",
      "review  20  : , the seller on and battery \n",
      "\n",
      "review  21  : , the was poor quality blocks \n",
      "\n",
      "review  22  : , be were i they for \n",
      "\n",
      "review  23  : , as really it inflated very \n",
      "\n",
      "review  24  : , got some of order missing \n",
      "\n",
      "review  25  : , terrible quality small difficult to \n",
      "\n",
      "review  26  : , they were the after not \n",
      "\n",
      "review  27  : , when of them so disappointed \n",
      "\n",
      "review  28  : , the they them to that \n",
      "\n",
      "review  29  : , i the balloons and a \n",
      "\n",
      "review  30  : , the to balloons and of \n",
      "\n",
      "review  31  : , the to they with i \n",
      "\n",
      "review  32  : , that to i and for \n",
      "\n",
      "review  33  : , the party of a normal \n",
      "\n",
      "review  34  : , not good quality but retailer \n",
      "\n",
      "review  35  : , the not very disappointing as \n",
      "\n",
      "review  36  : , for year old had to \n",
      "\n",
      "review  37  : , the to a i of \n",
      "\n",
      "review  38  : , the is and picture navy \n",
      "\n",
      "review  39  : , you of no this mask \n",
      "\n",
      "review  40  : , the pens sadly quality of \n",
      "\n",
      "review  41  : , the it open of for \n",
      "\n",
      "review  42  : , smokey my he with i \n",
      "\n",
      "review  43  : , the product a original is \n",
      "\n",
      "review  44  : , the material is cheap my \n",
      "\n",
      "review  45  : , the item disney on was \n",
      "\n",
      "review  46  : , the a cube i and \n",
      "\n",
      "review  47  : , banner a tiny tacky looking \n",
      "\n",
      "review  48  : , the arrived way later than \n",
      "\n",
      "review  49  : , to the of banner it \n",
      "\n",
      "review  50  : , and it i not this \n",
      "\n",
      "review  51  : , of the i beading is \n",
      "\n",
      "review  52  : , they were of bought for \n",
      "\n",
      "review  53  : , there was a opened packet \n",
      "\n",
      "review  54  : , is it wrongit says that \n",
      "\n",
      "review  55  : , the a of in this \n",
      "\n",
      "review  56  : , the i set they this \n",
      "\n",
      "review  57  : , to as and a should \n",
      "\n",
      "review  58  : , the no and be aware \n",
      "\n",
      "review  59  : , the and other it waste \n",
      "\n",
      "review  60  : , i this item and it \n",
      "\n",
      "review  61  : , what or you dont know \n",
      "\n",
      "review  62  : , to it but you very \n",
      "\n",
      "review  63  : , the it images quality is \n",
      "\n",
      "review  64  : , i this the for moshi \n",
      "\n",
      "review  65  : , not the had one it \n",
      "\n",
      "review  66  : , for even they the i \n",
      "\n",
      "review  67  : , a week them had great \n",
      "\n",
      "review  68  : , the it and i for \n",
      "\n",
      "review  69  : , very a pencils would not \n",
      "\n",
      "review  70  : , shocking quality head is foam \n",
      "\n",
      "review  71  : , the it is trailer part \n",
      "\n",
      "review  72  : , the in a box of \n",
      "\n",
      "review  73  : , is it on the bright \n",
      "\n",
      "review  74  : , of unfortunately this was very \n",
      "\n",
      "review  75  : , the on socks 2 they \n",
      "\n",
      "review  76  : , it a and for to \n",
      "\n",
      "review  77  : , advertises has having eyelets but \n",
      "\n",
      "review  78  : , has it i for my \n",
      "\n",
      "review  79  : , i the but one cannot \n",
      "\n",
      "review  80  : , it when we a there \n",
      "\n",
      "review  81  : , the to this a of \n",
      "\n",
      "review  82  : , the track of new engines \n",
      "\n",
      "review  83  : , to this not and new \n",
      "\n",
      "review  84  : , this i the model of \n",
      "\n",
      "review  85  : , with the spraying very disappointed \n",
      "\n",
      "review  86  : , the disappointed with size and \n",
      "\n",
      "review  87  : , to the them are i \n",
      "\n",
      "review  88  : , cost and postage not to \n",
      "\n",
      "review  89  : , with disappointed a very this \n",
      "\n",
      "review  90  : , i it was for and \n",
      "\n",
      "review  91  : , the what i dimentions 3cm \n",
      "\n",
      "review  92  : , broken on arrival "
     ]
    },
    {
     "ename": "IndexError",
     "evalue": "list index out of range",
     "output_type": "error",
     "traceback": [
      "\u001b[1;31m---------------------------------------------------------------------------\u001b[0m",
      "\u001b[1;31mIndexError\u001b[0m                                Traceback (most recent call last)",
      "\u001b[1;32m~\\AppData\\Local\\Temp/ipykernel_17720/372412278.py\u001b[0m in \u001b[0;36m<module>\u001b[1;34m\u001b[0m\n\u001b[0;32m      8\u001b[0m     \u001b[0mvocab_sorted\u001b[0m \u001b[1;33m=\u001b[0m \u001b[0msorted\u001b[0m\u001b[1;33m(\u001b[0m\u001b[0mdictionary\u001b[0m\u001b[1;33m.\u001b[0m\u001b[0mitems\u001b[0m\u001b[1;33m(\u001b[0m\u001b[1;33m)\u001b[0m\u001b[1;33m,\u001b[0m \u001b[0mkey\u001b[0m\u001b[1;33m=\u001b[0m\u001b[1;32mlambda\u001b[0m \u001b[0mx\u001b[0m\u001b[1;33m:\u001b[0m\u001b[0mx\u001b[0m\u001b[1;33m[\u001b[0m\u001b[1;36m1\u001b[0m\u001b[1;33m]\u001b[0m\u001b[1;33m,\u001b[0m \u001b[0mreverse\u001b[0m \u001b[1;33m=\u001b[0m \u001b[1;32mTrue\u001b[0m\u001b[1;33m)\u001b[0m\u001b[1;33m\u001b[0m\u001b[1;33m\u001b[0m\u001b[0m\n\u001b[0;32m      9\u001b[0m \u001b[1;33m\u001b[0m\u001b[0m\n\u001b[1;32m---> 10\u001b[1;33m     \u001b[0mprint_most_frequent_values\u001b[0m\u001b[1;33m(\u001b[0m\u001b[0mvocab_sorted\u001b[0m\u001b[1;33m)\u001b[0m\u001b[1;33m\u001b[0m\u001b[1;33m\u001b[0m\u001b[0m\n\u001b[0m\u001b[0;32m     11\u001b[0m     \u001b[0mglobal_count\u001b[0m\u001b[1;33m+=\u001b[0m \u001b[1;36m1\u001b[0m\u001b[1;33m\u001b[0m\u001b[1;33m\u001b[0m\u001b[0m\n\u001b[0;32m     12\u001b[0m     \u001b[0mdictionary\u001b[0m \u001b[1;33m=\u001b[0m \u001b[1;33m{\u001b[0m\u001b[1;33m}\u001b[0m\u001b[1;33m\u001b[0m\u001b[1;33m\u001b[0m\u001b[0m\n",
      "\u001b[1;32m~\\AppData\\Local\\Temp/ipykernel_17720/2090502670.py\u001b[0m in \u001b[0;36mprint_most_frequent_values\u001b[1;34m(dict_value)\u001b[0m\n\u001b[0;32m      4\u001b[0m     \u001b[0mprint\u001b[0m\u001b[1;33m(\u001b[0m\u001b[1;34m\"review \"\u001b[0m\u001b[1;33m,\u001b[0m \u001b[0mglobal_count\u001b[0m\u001b[1;33m,\u001b[0m \u001b[1;34m\" : \"\u001b[0m\u001b[1;33m,\u001b[0m \u001b[0mend\u001b[0m \u001b[1;33m=\u001b[0m \u001b[1;34m\", \"\u001b[0m\u001b[1;33m)\u001b[0m\u001b[1;33m\u001b[0m\u001b[1;33m\u001b[0m\u001b[0m\n\u001b[0;32m      5\u001b[0m     \u001b[1;32mfor\u001b[0m \u001b[0mi\u001b[0m \u001b[1;32min\u001b[0m \u001b[0mrange\u001b[0m\u001b[1;33m(\u001b[0m\u001b[1;36m5\u001b[0m\u001b[1;33m)\u001b[0m\u001b[1;33m:\u001b[0m\u001b[1;33m\u001b[0m\u001b[1;33m\u001b[0m\u001b[0m\n\u001b[1;32m----> 6\u001b[1;33m         \u001b[0mprint\u001b[0m\u001b[1;33m(\u001b[0m\u001b[0mdict_value\u001b[0m\u001b[1;33m[\u001b[0m\u001b[0mi\u001b[0m\u001b[1;33m]\u001b[0m\u001b[1;33m[\u001b[0m\u001b[1;36m0\u001b[0m\u001b[1;33m]\u001b[0m\u001b[1;33m,\u001b[0m\u001b[0mend\u001b[0m \u001b[1;33m=\u001b[0m \u001b[1;34m\" \"\u001b[0m\u001b[1;33m)\u001b[0m\u001b[1;33m\u001b[0m\u001b[1;33m\u001b[0m\u001b[0m\n\u001b[0m\u001b[0;32m      7\u001b[0m     \u001b[0mprint\u001b[0m\u001b[1;33m(\u001b[0m\u001b[1;34m\"\\n\"\u001b[0m\u001b[1;33m)\u001b[0m\u001b[1;33m\u001b[0m\u001b[1;33m\u001b[0m\u001b[0m\n\u001b[0;32m      8\u001b[0m \u001b[1;33m\u001b[0m\u001b[0m\n",
      "\u001b[1;31mIndexError\u001b[0m: list index out of range"
     ]
    }
   ],
   "source": [
    "global_count = 0\n",
    "for k, v in reviewDict.items():\n",
    "    # print(\"-\",v)\n",
    "    make_frequent_dict(v)\n",
    "    reviewDict[k] = dictionary\n",
    "    # print(dictionary)\n",
    "    \n",
    "    vocab_sorted = sorted(dictionary.items(), key=lambda x:x[1], reverse = True)\n",
    "    \n",
    "    print_most_frequent_values(vocab_sorted)\n",
    "    global_count+= 1\n",
    "    dictionary = {}\n",
    "# dictionary\n",
    "    "
   ]
  },
  {
   "cell_type": "code",
   "execution_count": null,
   "id": "1ec0be78-3649-4d64-8ab2-936cc73f7d64",
   "metadata": {},
   "outputs": [],
   "source": []
  },
  {
   "cell_type": "code",
   "execution_count": null,
   "id": "ee796250-7182-4ad3-bc40-31c88c697241",
   "metadata": {},
   "outputs": [],
   "source": []
  },
  {
   "cell_type": "code",
   "execution_count": null,
   "id": "21325f89-d3ae-4132-84af-bcef4ae94535",
   "metadata": {},
   "outputs": [],
   "source": [
    "# for k, v in reviewDict.items():\n",
    "#     for word in v:\n",
    "#         if word not in v:\n",
    "#             dictionary[word] = 0\n",
    "#         dictionary[word] += 1\n",
    "#         print(dictionary[word])\n",
    "#     reviewDict[k] = dictionary[word]\n",
    "    "
   ]
  },
  {
   "cell_type": "code",
   "execution_count": null,
   "id": "d946216d-1d76-4ff9-8a70-ce7b923c1873",
   "metadata": {},
   "outputs": [],
   "source": [
    "dictionary"
   ]
  },
  {
   "cell_type": "code",
   "execution_count": null,
   "id": "5f662865-bcb6-4b8b-8e82-9f0beb016706",
   "metadata": {},
   "outputs": [],
   "source": [
    "for key in reviewDict.items():\n",
    "    # print(\"-\",key)\n",
    "    # print(type(key))\n",
    "    l = list(key)\n",
    "    print(l)\n",
    "    for v in l\n",
    "    # for sub_key in key.items():\n",
    "    #     print(sub_key)\n",
    "        "
   ]
  },
  {
   "cell_type": "code",
   "execution_count": null,
   "id": "9ac1c285-542c-435a-ba51-5d47afbad381",
   "metadata": {},
   "outputs": [],
   "source": []
  },
  {
   "cell_type": "code",
   "execution_count": null,
   "id": "d8881512-fe2e-443f-b050-d4b9e6d42a7f",
   "metadata": {},
   "outputs": [],
   "source": [
    "type(itemDict)"
   ]
  },
  {
   "cell_type": "code",
   "execution_count": null,
   "id": "2f68a01e-2378-46a5-b313-5d80f5b655ee",
   "metadata": {},
   "outputs": [],
   "source": [
    "\n",
    "vocab_sorted = sorted(reviewDict.items().items(), key = lambda x:x[1], reverse = True)"
   ]
  },
  {
   "cell_type": "code",
   "execution_count": null,
   "id": "483ca2cd-0606-486e-a6fd-78a1a0cc6a1b",
   "metadata": {},
   "outputs": [],
   "source": [
    "len(reviewDict)"
   ]
  },
  {
   "cell_type": "code",
   "execution_count": null,
   "id": "32b053bc-1aaf-40fb-bb3f-517e97e8d256",
   "metadata": {},
   "outputs": [],
   "source": [
    "reviewDict"
   ]
  },
  {
   "cell_type": "code",
   "execution_count": null,
   "id": "1c60561a-8af6-4e03-b676-3d9805a7ff02",
   "metadata": {},
   "outputs": [],
   "source": []
  },
  {
   "cell_type": "code",
   "execution_count": null,
   "id": "f0ff9eb0-65e5-4a8b-b1df-f52cdd9c833f",
   "metadata": {},
   "outputs": [],
   "source": []
  },
  {
   "cell_type": "code",
   "execution_count": null,
   "id": "677582a6-c2bf-4335-8f48-0f72363f54a4",
   "metadata": {},
   "outputs": [],
   "source": []
  },
  {
   "cell_type": "code",
   "execution_count": null,
   "id": "2fd09865-7c2c-498d-b8d3-88296c4d3300",
   "metadata": {},
   "outputs": [],
   "source": []
  },
  {
   "cell_type": "code",
   "execution_count": null,
   "id": "c4b75384-9bdd-419c-8913-6a99de1e5e6b",
   "metadata": {},
   "outputs": [],
   "source": []
  },
  {
   "cell_type": "code",
   "execution_count": null,
   "id": "892f88a0-30c2-42b5-8318-66a03372aeb0",
   "metadata": {},
   "outputs": [],
   "source": []
  }
 ],
 "metadata": {
  "kernelspec": {
   "display_name": "Python 3 (ipykernel)",
   "language": "python",
   "name": "python3"
  },
  "language_info": {
   "codemirror_mode": {
    "name": "ipython",
    "version": 3
   },
   "file_extension": ".py",
   "mimetype": "text/x-python",
   "name": "python",
   "nbconvert_exporter": "python",
   "pygments_lexer": "ipython3",
   "version": "3.9.7"
  }
 },
 "nbformat": 4,
 "nbformat_minor": 5
}
